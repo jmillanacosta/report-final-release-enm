{
 "cells": [
  {
   "cell_type": "markdown",
   "metadata": {},
   "source": [
    "# NanoSolveIT KB and eNanoMapper Ontology\n",
    "This notebook generates some visualizations about the usage of eNanoMapper ontology terms described to use either a nanomaterial or measurement variable in the NanoSolveIT Knowledge Base.\n",
    "\n",
    "# Imports"
   ]
  },
  {
   "cell_type": "code",
   "execution_count": null,
   "metadata": {},
   "outputs": [],
   "source": [
    "import numpy as np\n",
    "import pandas as pd\n",
    "import re\n",
    "import plotly.express as px\n",
    "from plotly.subplots import make_subplots\n",
    "import plotly.graph_objects as go\n",
    "import plotly.offline as pyo\n",
    "import preprocess as prep\n",
    "from IPython.display import display, Markdown, clear_output\n",
    "import ipywidgets as widgets\n",
    "from itables import show\n",
    "from rdflib import Graph, URIRef, BNode, Literal, Namespace"
   ]
  },
  {
   "cell_type": "markdown",
   "metadata": {},
   "source": [
    "# Data preprocessing\n",
    "The data received from the partners is a result of the following query against the NanoSolveIT Knowledge Base:\n",
    "> Which eNM-ontology terms are used in the NanoSolveIT KB to describe either a Nanomaterial or any Measurement Variable"
   ]
  },
  {
   "cell_type": "code",
   "execution_count": null,
   "metadata": {},
   "outputs": [],
   "source": [
    "data = prep.do_preprocess()\n",
    "show(data)\n",
    "print(\"Table 1. Data provided by Biomax\")"
   ]
  },
  {
   "cell_type": "code",
   "execution_count": null,
   "metadata": {},
   "outputs": [],
   "source": []
  },
  {
   "cell_type": "markdown",
   "metadata": {},
   "source": [
    "# Visualization\n",
    "## Usage of eNanoMapper terms in the NanoSolveIT KB\n",
    "The following charts use the [Plotly Sunburst chart](https://plotly.com/python/sunburst-charts/) to visualize how the NanoSolveIT KB is represented in the eNanoMapper ontology in terms of nanomaterial or variable description, presence in datasets, and links to OECD guidelines.\n",
    "\n",
    "Click on any ring segment to expand"
   ]
  },
  {
   "cell_type": "code",
   "execution_count": null,
   "metadata": {},
   "outputs": [],
   "source": [
    "\n",
    "\n",
    "# Preprocess the data to obtain the columns needed for sunburst charting\n",
    "from code import interact\n",
    "from turtle import width\n",
    "from unittest import makeSuite\n",
    "\n",
    "\n",
    "datasb = pd.DataFrame(columns = [\"eNanoMapper terms\", \"type\", \"iri\", \"label\", \"Number of observations\"])\n",
    "vars = [\"nanomaterial\", \"variable\", \"oecd_guideline\", \"dataset\"]\n",
    "for var in vars:\n",
    "    df = data[data[var]!=\"\"][[\"iri\", \"label\", var]].rename(columns={var:\"target\"})\n",
    "    df[\"Number of observations\"] = [1 for i in range(len(df[\"iri\"]))]\n",
    "    df[\"eNanoMapper terms\"] = [\"eNanoMapper terms\" for i in range(len(df[\"iri\"]))]\n",
    "    df[\"type\"] = [var for i in range(len(df[\"iri\"]))]\n",
    "    datasb = pd.concat([datasb, df], axis=0)\n",
    "\n",
    "def make_sb(datasb, field):\n",
    "    if field !=\"all\":\n",
    "        figdata = datasb[datasb[\"type\"] == field]  \n",
    "        fig = px.sunburst(figdata,\n",
    "                    path = [\"eNanoMapper terms\", \"iri\", \"label\", \"target\"], values = \"Number of observations\",\n",
    "                    width=700, height=700)\n",
    "    else:\n",
    "        figdata = datasb\n",
    "        fig = px.sunburst(figdata,\n",
    "                    path = [\"eNanoMapper terms\", \"type\", \"iri\", \"label\", \"target\"], values = \"Number of observations\",\n",
    "                    width=1000, height=1000)\n",
    "    return fig\n",
    "\n",
    "\n",
    "nm = make_sb(datasb, \"nanomaterial\")\n",
    "ds = make_sb(datasb, \"dataset\")\n",
    "va = make_sb(datasb, \"variable\")\n",
    "og = make_sb(datasb, \"oecd_guideline\")\n",
    "fig1 = make_subplots(rows=1, cols=2, specs=[\n",
    "    [{\"type\": \"sunburst\"}, {\"type\": \"sunburst\"}]],\n",
    "    subplot_titles=[\"Fig 1. eNanoMapper terms used to describe nanomaterials or nanoparticles\", \"Fig 2. Datasets containing eNanoMapper terms and the variables they refer to\"])\n",
    "fig2 = make_subplots(rows=1, cols=2, specs=[\n",
    "    [{\"type\": \"sunburst\"}, {\"type\": \"sunburst\"}]],\n",
    "    subplot_titles=[\"Fig. 3. eNanoMapper terms used to describe assayed variables\", \"Fig4. Usage of eNanoMapper terms in reference to OECD guidelines\"])\n",
    "fig1.add_trace(nm.data[0], row=1, col=1)\n",
    "fig1.add_trace(ds.data[0], row=1,col=2)\n",
    "fig2.add_trace(va.data[0], row=1,col=1)\n",
    "fig2.add_trace(og.data[0], row=1,col=2)\n",
    "fig1.update_layout(height=700, width=1400,)\n",
    "fig1.show()\n",
    "fig2.update_layout(height=700, width=1400,)\n",
    "fig2.show()\n"
   ]
  },
  {
   "cell_type": "markdown",
   "metadata": {},
   "source": [
    "## Visualizing the terms in the ontology\n",
    "The [eNanoMapper ontology](google.com) graph is visualized to find which terms are being used in the KB."
   ]
  },
  {
   "cell_type": "code",
   "execution_count": null,
   "metadata": {},
   "outputs": [],
   "source": [
    "g = Graph()\n",
    "g =  g.parse(\"https://raw.githubusercontent.com/jmillanacosta/ontologies/master/enanomapper-full.owl\", format = \"xml\")\n",
    "# Build nodes\n",
    "## A triple for each NPXXXXX (nanoparticles in the NanoSolveIT KB)\n",
    "nm = datasb[datasb[\"type\"] == \"nanomaterial\"] \n",
    "from rdflib.namespace import RDF\n",
    "for i, j in nm.iterrows():\n",
    "    curie = j[2]\n",
    "    nano = j[5]\n",
    "    # NPO or CHEBI\n",
    "    if \"NPO\" in curie:\n",
    "        query = \"\"\"INSERT {{ <{}> a owl:NamedIndividual .\n",
    "                             <{}> a ?class . }}\n",
    "                            WHERE {{ ?class npo:code \"{}\"  }}\"\"\".format(nano, nano, curie.replace(\":\",\"_\"))\n",
    "    if \"CHEBI\" in curie:\n",
    "        query = \"\"\"INSERT {{ <{}> a owl:NamedIndividual .\n",
    "                             <{}> a ?class . }}\n",
    "                            WHERE {{ ?class oboInOwl:id \"{}\"  }}\"\"\".format(nano, nano, curie)\n",
    "    g.update(query)\n",
    "g.serialize(format=\"turtle\", destination=\"eNM_nm.ttl\")\n"
   ]
  }
 ],
 "metadata": {
  "kernelspec": {
   "display_name": "Python 3.9.13 ('base')",
   "language": "python",
   "name": "python3"
  },
  "language_info": {
   "codemirror_mode": {
    "name": "ipython",
    "version": 3
   },
   "file_extension": ".py",
   "mimetype": "text/x-python",
   "name": "python",
   "nbconvert_exporter": "python",
   "pygments_lexer": "ipython3",
   "version": "3.9.13"
  },
  "orig_nbformat": 4,
  "vscode": {
   "interpreter": {
    "hash": "267a425285626f162e8dbac0e72a3103fc15fe1856529c1140c5b196b5352764"
   }
  }
 },
 "nbformat": 4,
 "nbformat_minor": 2
}

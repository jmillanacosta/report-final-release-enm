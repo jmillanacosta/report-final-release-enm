{
 "cells": [
  {
   "cell_type": "markdown",
   "metadata": {},
   "source": [
    "# NanoSolveIT KB and eNanoMapper Ontology\n",
    "This notebook generates some visualizations and statistics about the usage of eNanoMapper ontology terms described to use either a nanomaterial or measurement variable in the NanoSolveIT Knowledge Base."
   ]
  },
  {
   "cell_type": "code",
   "execution_count": null,
   "metadata": {},
   "outputs": [],
   "source": [
    "import numpy as np\n",
    "from matplotlib import pyplot as plt\n",
    "from faerun import Faerun\n",
    "import tmap as tm\n",
    "import pandas as pd\n",
    "import re\n",
    "import json"
   ]
  },
  {
   "cell_type": "code",
   "execution_count": null,
   "metadata": {},
   "outputs": [],
   "source": [
    "# Import SPARQL result\n",
    "data = pd.read_csv('data/NanoSolveIT-KnoweldgeBase_eNM-Ontology-term-use_27-9-22.csv')\n",
    "data = data.replace(np.NaN, \"\")\n",
    "iriPattern = re.compile(r'[A-Za-z]+[:_]\\d+')\n",
    "# Split provided eNM term into IRI and Label\n",
    "data['iri'] = [re.search(iriPattern, enmTerm).group().replace(\"_\",\":\") if re.search(iriPattern, enmTerm) is not None else \"\" for enmTerm in data['eNM term']]\n",
    "data['label'] = [enmTerm.replace(re.search(iriPattern, enmTerm).group(), \"\") for enmTerm in data['eNM term']]\n",
    "# Unpivot based on OECD test guideline\n",
    "oecd = data['described variable.OECD Testguideline'].apply(lambda x : pd.Series(str(x).split(\";\"))).stack()\n",
    "data = pd.merge(oecd.reset_index(), data.reset_index(), left_on = 'level_0', right_on = 'index').rename(columns={0:\"oecd_guideline\"}).drop([\"level_0\", \"level_1\", \"index\", \"described variable.OECD Testguideline\"], axis=1)\n",
    "# Unpivot based on described nanomaterial\n",
    "nanomaterial = data['described Nanomaterial'].apply(lambda x : pd.Series(str(x).split(\";\"))).stack()\n",
    "data = pd.merge(nanomaterial.reset_index(), data.reset_index(), left_on = 'level_0', right_on = 'index').rename(columns={0:\"nanomaterial\"}).drop([\"level_0\", \"level_1\", \"index\", \"described Nanomaterial\"], axis=1)\n",
    "# Unpivot based on described variable\n",
    "variable = data['described variable.Variable'].apply(lambda x : pd.Series(str(x).split(\";\"))).stack()\n",
    "data = pd.merge(variable.reset_index(), data.reset_index(), left_on = 'level_0', right_on = 'index').rename(columns={0:\"variable\"}).drop([\"level_0\", \"level_1\", \"index\", \"described variable.Variable\"], axis=1)\n",
    "# Unpivot based on dataset\n",
    "dataset = data['described variable.Dataset'].apply(lambda x : pd.Series(str(x).split(\";\"))).stack()\n",
    "data = pd.merge(dataset.reset_index(), data.reset_index(), left_on = 'level_0', right_on = 'index').rename(columns={0:\"dataset\"}).drop([\"level_0\", \"level_1\", \"index\", \"described variable.Dataset\", \"eNM term\"], axis=1)\n",
    "# Rearrange columns\n",
    "data = data[[\"label\",\"iri\", \"variable\", \"dataset\", \"nanomaterial\", \"oecd_guideline\"]]"
   ]
  },
  {
   "cell_type": "code",
   "execution_count": null,
   "metadata": {},
   "outputs": [],
   "source": [
    "data"
   ]
  },
  {
   "cell_type": "code",
   "execution_count": null,
   "metadata": {},
   "outputs": [],
   "source": []
  }
 ],
 "metadata": {
  "kernelspec": {
   "display_name": "Python 3.9.12 ('base')",
   "language": "python",
   "name": "python3"
  },
  "language_info": {
   "codemirror_mode": {
    "name": "ipython",
    "version": 3
   },
   "file_extension": ".py",
   "mimetype": "text/x-python",
   "name": "python",
   "nbconvert_exporter": "python",
   "pygments_lexer": "ipython3",
   "version": "3.9.12"
  },
  "orig_nbformat": 4,
  "vscode": {
   "interpreter": {
    "hash": "4d32176189984ff376a17cdb628dd15b7321aafe69a20e74c6eacfb3c97b329e"
   }
  }
 },
 "nbformat": 4,
 "nbformat_minor": 2
}
